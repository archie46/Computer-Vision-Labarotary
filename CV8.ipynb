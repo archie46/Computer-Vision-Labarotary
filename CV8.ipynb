{
  "cells": [
    {
      "cell_type": "markdown",
      "metadata": {
        "id": "view-in-github",
        "colab_type": "text"
      },
      "source": [
        "<a href=\"https://colab.research.google.com/github/archie46/Computer-Vision-Labarotary/blob/main/CV8.ipynb\" target=\"_parent\"><img src=\"https://colab.research.google.com/assets/colab-badge.svg\" alt=\"Open In Colab\"/></a>"
      ]
    },
    {
      "cell_type": "code",
      "execution_count": null,
      "metadata": {
        "id": "z_fwQk1SH5cQ"
      },
      "outputs": [],
      "source": [
        "import cv2\n",
        "import numpy as np\n",
        "from google.colab.patches import cv2_imshow"
      ]
    },
    {
      "cell_type": "code",
      "execution_count": null,
      "metadata": {
        "id": "cdhGPzzd0xEi"
      },
      "outputs": [],
      "source": [
        "cap = cv2.VideoCapture('vtest.avi')\n",
        "ret, frame1 = cap.read()\n",
        "prvs = cv2.cvtColor(frame1, cv2.COLOR_BGR2GRAY)\n",
        "hsv = np.zeros_like(frame1)\n",
        "hsv[..., 1] = 255\n",
        "while(1):\n",
        "    ret, frame2 = cap.read()\n",
        "    if not ret:\n",
        "        print('No frames grabbed!')\n",
        "        break\n",
        "\n",
        "    next = cv2.cvtColor(frame2, cv2.COLOR_BGR2GRAY)\n",
        "    flow = cv2.calcOpticalFlowFarneback(prvs, next, None, 0.5, 3, 15, 3, 5, 1.2, 0)\n",
        "    mag, ang = cv2.cartToPolar(flow[..., 0], flow[..., 1])\n",
        "    hsv[..., 0] = ang*180/np.pi/2\n",
        "    hsv[..., 2] = cv2.normalize(mag, None, 0, 255, cv2.NORM_MINMAX)\n",
        "    bgr = cv2.cvtColor(hsv, cv2.COLOR_HSV2BGR)\n",
        "    cv2_imshow(bgr)"
      ]
    },
    {
      "cell_type": "code",
      "execution_count": null,
      "metadata": {
        "id": "ImxomtxFEn3R"
      },
      "outputs": [],
      "source": [
        "video = 'slow_traffic_small.mp4'\n",
        "\n",
        "cap = cv2.VideoCapture(video)\n",
        "\n",
        "# params for ShiTomasi corner detection\n",
        "feature_params = dict( maxCorners = 100,\n",
        "                       qualityLevel = 0.3,\n",
        "                       minDistance = 7,\n",
        "                       blockSize = 7 )\n",
        "\n",
        "# Parameters for lucas kanade optical flow\n",
        "lk_params = dict( winSize  = (15, 15),\n",
        "                  maxLevel = 2,\n",
        "                  criteria = (cv2.TERM_CRITERIA_EPS | cv2.TERM_CRITERIA_COUNT, 10, 0.03))\n",
        "\n",
        "# Create some random colors\n",
        "color = np.random.randint(0, 255, (100, 3))\n",
        "\n",
        "# Take first frame and find corners in it\n",
        "ret, old_frame = cap.read()\n",
        "old_gray = cv2.cvtColor(old_frame, cv2.COLOR_BGR2GRAY)\n",
        "p0 = cv2.goodFeaturesToTrack(old_gray, mask = None, **feature_params)\n",
        "\n",
        "# Create a mask image for drawing purposes\n",
        "mask = np.zeros_like(old_frame)\n",
        "\n",
        "while(1):\n",
        "    ret, frame = cap.read()\n",
        "    if not ret:\n",
        "        print('No frames grabbed!')\n",
        "        break\n",
        "\n",
        "    frame_gray = cv2.cvtColor(frame, cv2.COLOR_BGR2GRAY)\n",
        "\n",
        "    # calculate optical flow\n",
        "    p1, st, err = cv2.calcOpticalFlowPyrLK(old_gray, frame_gray, p0, None, **lk_params)\n",
        "\n",
        "    # Select good points\n",
        "    if p1 is not None:\n",
        "        good_new = p1[st==1]\n",
        "        good_old = p0[st==1]\n",
        "\n",
        "    # draw the tracks\n",
        "    for i, (new, old) in enumerate(zip(good_new, good_old)):\n",
        "        a, b = new.ravel()\n",
        "        c, d = old.ravel()\n",
        "        mask = cv2.line(mask, (int(a), int(b)), (int(c), int(d)), color[i].tolist(), 2)\n",
        "        frame = cv2.circle(frame, (int(a), int(b)), 5, color[i].tolist(), -1)\n",
        "    img = cv2.add(frame, mask)\n",
        "\n",
        "    cv2_imshow(img)\n",
        "\n",
        "    # Now update the previous frame and previous points\n",
        "    old_gray = frame_gray.copy()\n",
        "    p0 = good_new.reshape(-1, 1, 2)"
      ]
    },
    {
      "cell_type": "code",
      "execution_count": null,
      "metadata": {
        "id": "8qlJqnyPG1fH"
      },
      "outputs": [],
      "source": [
        "cap = cv2.VideoCapture('slow_traffic_small.mp4')\n",
        "\n",
        "while True:\n",
        "    ret, frame = cap.read()\n",
        "    if not ret:\n",
        "        break\n",
        "\n",
        "    # Convert the frame to grayscale\n",
        "    gray_frame = cv2.cvtColor(frame, cv2.COLOR_BGR2GRAY)\n",
        "\n",
        "    # Apply a threshold to create a binary mask\n",
        "    threshold_value = 50  # Adjust this threshold as needed\n",
        "    _, binary_mask = cv2.threshold(gray_frame, threshold_value, 255, cv2.THRESH_BINARY)\n",
        "\n",
        "    # Perform morphological operations to clean up the mask (optional)\n",
        "    kernel = np.ones((5, 5), np.uint8)\n",
        "    binary_mask = cv2.morphologyEx(binary_mask, cv2.MORPH_OPEN, kernel)\n",
        "    binary_mask = cv2.morphologyEx(binary_mask, cv2.MORPH_CLOSE, kernel)\n",
        "\n",
        "    # Find contours in the binary mask to identify moving objects\n",
        "    contours, _ = cv2.findContours(binary_mask, cv2.RETR_EXTERNAL, cv2.CHAIN_APPROX_SIMPLE)\n",
        "\n",
        "    # Draw bounding boxes around detected moving objects\n",
        "    for contour in contours:\n",
        "        if cv2.contourArea(contour) > 100:  # Adjust the area threshold as needed\n",
        "            x, y, w, h = cv2.boundingRect(contour)\n",
        "            cv2.rectangle(frame, (x, y), (x + w, y + h), (0, 255, 0), 2)\n",
        "\n",
        "    # Display the original frame with detected objects\n",
        "    cv2_imshow(frame)\n",
        "\n",
        "cap.release()"
      ]
    },
    {
      "cell_type": "code",
      "execution_count": null,
      "metadata": {
        "id": "R3uysZKP4-sV"
      },
      "outputs": [],
      "source": [
        "# Open the video file (replace 'input_video.mp4' with your video file)\n",
        "cap = cv2.VideoCapture('slow_traffic_small.mp4')\n",
        "\n",
        "# Initialize the background subtractor (you can use different methods like MOG2 or KNN)\n",
        "bg_subtractor = cv2.createBackgroundSubtractorMOG2()\n",
        "\n",
        "while True:\n",
        "    ret, frame = cap.read()\n",
        "    if not ret:\n",
        "        break\n",
        "\n",
        "    # Apply background subtraction to the frame\n",
        "    fg_mask = bg_subtractor.apply(frame)\n",
        "\n",
        "    # Threshold the foreground mask to get binary results\n",
        "    threshold = 128\n",
        "    _, binary_mask = cv2.threshold(fg_mask, threshold, 255, cv2.THRESH_BINARY)\n",
        "\n",
        "    # Perform morphological operations to clean up the mask (optional)\n",
        "    kernel = np.ones((5, 5), np.uint8)\n",
        "    binary_mask = cv2.morphologyEx(binary_mask, cv2.MORPH_OPEN, kernel)\n",
        "    binary_mask = cv2.morphologyEx(binary_mask, cv2.MORPH_CLOSE, kernel)\n",
        "\n",
        "    # Find contours in the binary mask to identify moving objects\n",
        "    contours, _ = cv2.findContours(binary_mask, cv2.RETR_EXTERNAL, cv2.CHAIN_APPROX_SIMPLE)\n",
        "\n",
        "    # Draw bounding boxes around detected moving objects\n",
        "    for contour in contours:\n",
        "        if cv2.contourArea(contour) > 100:  # Adjust the area threshold as needed\n",
        "            x, y, w, h = cv2.boundingRect(contour)\n",
        "            cv2.rectangle(frame, (x, y), (x + w, y + h), (0, 255, 0), 2)\n",
        "\n",
        "    # Display the original frame with detected objects\n",
        "    cv2_imshow(frame)\n",
        "\n",
        "cap.release()"
      ]
    }
  ],
  "metadata": {
    "colab": {
      "provenance": [],
      "authorship_tag": "ABX9TyPxZe8CkB0viVff8OE1swb6",
      "include_colab_link": true
    },
    "kernelspec": {
      "display_name": "Python 3",
      "name": "python3"
    },
    "language_info": {
      "name": "python"
    }
  },
  "nbformat": 4,
  "nbformat_minor": 0
}