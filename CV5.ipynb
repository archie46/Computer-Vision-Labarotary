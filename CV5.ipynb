{
  "nbformat": 4,
  "nbformat_minor": 0,
  "metadata": {
    "colab": {
      "provenance": [],
      "authorship_tag": "ABX9TyMaWBXHNpa5fsNYkLX+fKfC",
      "include_colab_link": true
    },
    "kernelspec": {
      "name": "python3",
      "display_name": "Python 3"
    },
    "language_info": {
      "name": "python"
    }
  },
  "cells": [
    {
      "cell_type": "markdown",
      "metadata": {
        "id": "view-in-github",
        "colab_type": "text"
      },
      "source": [
        "<a href=\"https://colab.research.google.com/github/archie46/Computer-Vision-Labarotary/blob/main/CV5.ipynb\" target=\"_parent\"><img src=\"https://colab.research.google.com/assets/colab-badge.svg\" alt=\"Open In Colab\"/></a>"
      ]
    },
    {
      "cell_type": "code",
      "execution_count": null,
      "metadata": {
        "id": "knqpLfxQP3lw"
      },
      "outputs": [],
      "source": [
        "import cv2\n",
        "from google.colab.patches import cv2_imshow\n",
        "import matplotlib.pyplot as plt\n",
        "import numpy as np"
      ]
    },
    {
      "cell_type": "code",
      "source": [
        "!wget -O dog.jpg \"https://cdn.britannica.com/79/232779-050-6B0411D7/German-Shepherd-dog-Alsatian.jpg\""
      ],
      "metadata": {
        "id": "r7bd8X3zRYgR"
      },
      "execution_count": null,
      "outputs": []
    },
    {
      "cell_type": "code",
      "source": [
        "img = cv2.imread(\"dog.jpg\")"
      ],
      "metadata": {
        "id": "gCaJEQS6RacF"
      },
      "execution_count": null,
      "outputs": []
    },
    {
      "cell_type": "code",
      "source": [
        "# Display the image using Matplotlib\n",
        "plt.imshow(cv2.cvtColor(img, cv2.COLOR_BGR2RGB))\n",
        "plt.axis('off')\n",
        "plt.show()"
      ],
      "metadata": {
        "id": "Akc2-bmCRirv"
      },
      "execution_count": null,
      "outputs": []
    },
    {
      "cell_type": "code",
      "source": [
        "# Step 1: Apply Gaussian filter to smooth the image\n",
        "blurred = cv2.GaussianBlur(img, (5, 5), 0)\n",
        "\n",
        "# Step 2: Find the intensity gradients of the image using Sobel operators\n",
        "grad_x = cv2.Sobel(blurred, cv2.CV_64F, 1, 0, ksize=5)\n",
        "grad_y = cv2.Sobel(blurred, cv2.CV_64F, 0, 1, ksize=5)\n",
        "\n",
        "# Calculate gradient magnitude and direction\n",
        "gradient_magnitude = np.sqrt(np.square(grad_x) + np.square(grad_y))\n",
        "gradient_direction = np.arctan2(grad_y, grad_x) * 180 / np.pi\n",
        "\n",
        "# Step 3: Apply gradient magnitude thresholding to get rid of weak edges\n",
        "threshold_low = 30  # Adjust this threshold as needed\n",
        "threshold_high = 100  # Adjust this threshold as needed\n",
        "\n",
        "edges = cv2.Canny(blurred, threshold_low, threshold_high)\n",
        "\n",
        "# Step 4 and 5 are performed by the Canny function itself\n",
        "\n",
        "# Display the original image and the resulting edges\n",
        "plt.figure(figsize=(12, 6))\n",
        "plt.subplot(121), plt.imshow(cv2.cvtColor(img, cv2.COLOR_BGR2RGB), cmap='gray')\n",
        "plt.title('Original Image'), plt.xticks([]), plt.yticks([])\n",
        "plt.subplot(122), plt.imshow(edges, cmap='gray')\n",
        "plt.title('Canny Edge Detection'), plt.xticks([]), plt.yticks([])\n",
        "\n",
        "plt.show()"
      ],
      "metadata": {
        "id": "CA5R_B8UPBN7"
      },
      "execution_count": null,
      "outputs": []
    },
    {
      "cell_type": "code",
      "source": [
        "# Apply Sobel operators to calculate gradient in x and y directions\n",
        "grad_x = cv2.Sobel(img, cv2.CV_64F, 1, 0, ksize=3)\n",
        "grad_y = cv2.Sobel(img, cv2.CV_64F, 0, 1, ksize=3)\n",
        "\n",
        "# Calculate the gradient magnitude\n",
        "gradient_magnitude = np.array(np.sqrt(np.square(grad_x) + np.square(grad_y)))\n",
        "\n",
        "\n",
        "# Normalize the gradient magnitude to the range [0, 255]\n",
        "gradient_magnitude = cv2.normalize(gradient_magnitude,gradient_magnitude , 0, 255, cv2.NORM_MINMAX, cv2.CV_8U)\n",
        "\n",
        "# Display the original image and the gradient magnitude\n",
        "plt.figure(figsize=(12, 6))\n",
        "plt.subplot(121), plt.imshow(cv2.cvtColor(img, cv2.COLOR_BGR2RGB), cmap='gray')\n",
        "plt.title('Original Image'), plt.xticks([]), plt.yticks([])\n",
        "plt.subplot(122), plt.imshow(gradient_magnitude, cmap='gray')\n",
        "plt.title('Sobel Edge Detection'), plt.xticks([]), plt.yticks([])\n",
        "\n",
        "plt.show()"
      ],
      "metadata": {
        "id": "SBInPwdtiaZ7"
      },
      "execution_count": null,
      "outputs": []
    },
    {
      "cell_type": "code",
      "source": [
        "# Define parameters for Harris Corner Detection\n",
        "block_size = 2\n",
        "ksize = 3\n",
        "k = 0.04\n",
        "threshold = 0.009\n",
        "\n",
        "# Apply Harris Corner Detection\n",
        "\n",
        "image_gray = cv2.cvtColor(img, cv2.COLOR_BGR2GRAY)\n",
        "corners = cv2.cornerHarris(image_gray, block_size, ksize, k)\n",
        "\n",
        "# Create a mask for corners above the threshold\n",
        "corner_mask = corners > threshold * corners.max()\n",
        "\n",
        "# Mark the detected corners with red pixels\n",
        "image_with_corners = img.copy()\n",
        "image_with_corners[corner_mask] = [0, 0, 255]  # Red color\n",
        "\n",
        "# Display the original image and the image with corners marked\n",
        "plt.figure(figsize=(12, 6))\n",
        "plt.subplot(121), plt.imshow(cv2.cvtColor(img, cv2.COLOR_BGR2RGB))\n",
        "plt.title('Original Image'), plt.xticks([]), plt.yticks([])\n",
        "plt.subplot(122), plt.imshow(cv2.cvtColor(image_with_corners, cv2.COLOR_BGR2RGB))\n",
        "plt.title('Harris Corner Detection'), plt.xticks([]), plt.yticks([])\n",
        "\n",
        "plt.show()"
      ],
      "metadata": {
        "id": "0fhxMwu_pzej"
      },
      "execution_count": null,
      "outputs": []
    },
    {
      "cell_type": "code",
      "source": [
        "# Load the image\n",
        "gray_image = cv2.cvtColor(img, cv2.COLOR_BGR2GRAY)\n",
        "\n",
        "# Apply Gaussian blur to reduce noise and improve line detection\n",
        "blurred_image = cv2.GaussianBlur(gray_image, (5, 5), 0)\n",
        "\n",
        "# Perform edge detection using Canny\n",
        "edges = cv2.Canny(blurred_image, 50, 150, apertureSize=3)\n",
        "\n",
        "# Use the Hough Line Transform to detect lines\n",
        "lines = cv2.HoughLines(edges, 1, np.pi / 180, threshold=100)\n",
        "\n",
        "# Draw the detected lines on a copy of the original image\n",
        "image_with_lines = np.copy(img)\n",
        "\n",
        "if lines is not None:\n",
        "    for line in lines:\n",
        "        rho, theta = line[0]\n",
        "        a,b = np.cos(theta),np.sin(theta)\n",
        "        x0,y0 = a * rho,b * rho\n",
        "        x1,y1 = int(x0 + 1000 * (-b)),int(y0 + 1000 * (a))\n",
        "        x2,y2 = int(x0 - 1000 * (-b)),int(y0 - 1000 * (a))\n",
        "        cv2.line(image_with_lines, (x1, y1), (x2, y2), (0, 0, 255), 2)\n",
        "\n",
        "# Display the original image and the image with lines detected\n",
        "plt.figure(figsize=(12, 6))\n",
        "plt.subplot(121), plt.imshow(cv2.cvtColor(img, cv2.COLOR_BGR2RGB))\n",
        "plt.title('Original Image'), plt.xticks([]), plt.yticks([])\n",
        "plt.subplot(122), plt.imshow(cv2.cvtColor(image_with_lines, cv2.COLOR_BGR2RGB))\n",
        "plt.title('Line Detection (Hough Transform)'), plt.xticks([]), plt.yticks([])\n",
        "\n",
        "plt.show()"
      ],
      "metadata": {
        "id": "1dGw2pxar8AY"
      },
      "execution_count": null,
      "outputs": []
    }
  ]
}